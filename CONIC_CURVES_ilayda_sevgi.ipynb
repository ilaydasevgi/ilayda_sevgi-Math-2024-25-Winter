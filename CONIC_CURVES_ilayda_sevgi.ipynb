{
  "nbformat": 4,
  "nbformat_minor": 0,
  "metadata": {
    "colab": {
      "provenance": [],
      "authorship_tag": "ABX9TyPUAmPZHIiMaqnDpcXWgNni",
      "include_colab_link": true
    },
    "kernelspec": {
      "name": "python3",
      "display_name": "Python 3"
    },
    "language_info": {
      "name": "python"
    }
  },
  "cells": [
    {
      "cell_type": "markdown",
      "metadata": {
        "id": "view-in-github",
        "colab_type": "text"
      },
      "source": [
        "<a href=\"https://colab.research.google.com/github/ilaydasevgi/ilayda_sevgi-Math-2024-25-Winter/blob/main/CONIC_CURVES_ilayda_sevgi.ipynb\" target=\"_parent\"><img src=\"https://colab.research.google.com/assets/colab-badge.svg\" alt=\"Open In Colab\"/></a>"
      ]
    },
    {
      "cell_type": "markdown",
      "source": [
        "Find the equation of a circle with center at point\n",
        "A\n",
        "(\n",
        "1\n",
        ",\n",
        "2\n",
        ")\n",
        " and radius\n",
        "r\n",
        "=\n",
        "3\n",
        "."
      ],
      "metadata": {
        "id": "fiuvXY4VTGxY"
      }
    },
    {
      "cell_type": "code",
      "source": [
        "# Çemberin merkezi ve yarıçapı\n",
        "h = 1  # x koordinatı (merkez)\n",
        "k = 2  # y koordinatı (merkez)\n",
        "r = 3  # yarıçap\n",
        "\n",
        "# Çemberin denklem formülünü oluştur ve yazdır\n",
        "equation = f\"(x - {h})**2 + (y - {k})**2 = {r**2}\"\n",
        "print(\"Çemberin denklemi:\", equation)\n"
      ],
      "metadata": {
        "colab": {
          "base_uri": "https://localhost:8080/"
        },
        "id": "2kdA76beThkm",
        "outputId": "62537684-36da-4257-f529-56e08c495991"
      },
      "execution_count": 3,
      "outputs": [
        {
          "output_type": "stream",
          "name": "stdout",
          "text": [
            "Çemberin denklemi: (x - 1)**2 + (y - 2)**2 = 9\n"
          ]
        }
      ]
    },
    {
      "cell_type": "markdown",
      "source": [
        "Find the equation of a parabola intersecting the\n",
        "O\n",
        "x\n",
        " axis at points\n",
        "x\n",
        "=\n",
        "2\n",
        ",\n",
        "x\n",
        "=\n",
        "4\n",
        ", and passing through point\n",
        "y\n",
        "(\n",
        "3\n",
        ")\n",
        "=\n",
        "1\n",
        "."
      ],
      "metadata": {
        "id": "-ODVIuZRTmiJ"
      }
    },
    {
      "cell_type": "code",
      "source": [
        "# Given data\n",
        "x1 = 2  # First x-intercept\n",
        "x2 = 4  # Second x-intercept\n",
        "x_point = 3  # x-coordinate of the given point\n",
        "y_point = 1  # y-coordinate of the given point\n",
        "\n",
        "# General form of the parabola: y = a(x - x1)(x - x2)\n",
        "# Substitute the given point to find 'a'\n",
        "# y_point = a * (x_point - x1) * (x_point - x2)\n",
        "a = y_point / ((x_point - x1) * (x_point - x2))\n",
        "\n",
        "# Display the final equation\n",
        "print(f\"The equation of the parabola is: y = {a}(x - {x1})(x - {x2})\")\n"
      ],
      "metadata": {
        "colab": {
          "base_uri": "https://localhost:8080/"
        },
        "id": "7m3eR9KcTsh1",
        "outputId": "9d5dfd90-7609-41ac-9a95-11c1aa4fd737"
      },
      "execution_count": 4,
      "outputs": [
        {
          "output_type": "stream",
          "name": "stdout",
          "text": [
            "The equation of the parabola is: y = -1.0(x - 2)(x - 4)\n"
          ]
        }
      ]
    },
    {
      "cell_type": "markdown",
      "source": [
        "Find the center of the ellipse with the equation\n",
        "x\n",
        "2\n",
        "+\n",
        "4\n",
        "y\n",
        "2\n",
        "−\n",
        "4\n",
        "x\n",
        "−\n",
        "16\n",
        "y\n",
        "+\n",
        "16\n",
        "=\n",
        "0\n",
        "."
      ],
      "metadata": {
        "id": "8m0Kilc-T52k"
      }
    },
    {
      "cell_type": "code",
      "source": [
        "# Given equation: x^2 + 4y^2 - 4x - 16y + 16 = 0\n",
        "\n",
        "# Coefficients of the terms\n",
        "a_x = 1  # Coefficient of x^2\n",
        "b_x = -4  # Coefficient of x\n",
        "a_y = 4  # Coefficient of y^2\n",
        "b_y = -16  # Coefficient of y\n",
        "constant = 16  # Constant term\n",
        "\n",
        "# Completing the square for x\n",
        "x_h = -b_x / (2 * a_x)  # h for x\n",
        "x_correction = (b_x / (2 * a_x))**2  # Correction for completing the square\n",
        "\n",
        "# Completing the square for y\n",
        "y_h = -b_y / (2 * a_y)  # k for y\n",
        "y_correction = (b_y / (2 * a_y))**2  # Correction for completing the square\n",
        "\n",
        "# Adjust the constant term\n",
        "new_constant = constant - x_correction - a_y * y_correction\n",
        "\n",
        "# Display the center of the ellipse\n",
        "print(f\"The center of the ellipse is at: ({x_h}, {y_h})\")\n"
      ],
      "metadata": {
        "colab": {
          "base_uri": "https://localhost:8080/"
        },
        "id": "LSsfz1MlT6Ng",
        "outputId": "d96a2f29-1205-4a27-907f-810d974666d6"
      },
      "execution_count": 5,
      "outputs": [
        {
          "output_type": "stream",
          "name": "stdout",
          "text": [
            "The center of the ellipse is at: (2.0, 2.0)\n"
          ]
        }
      ]
    },
    {
      "cell_type": "markdown",
      "source": [
        "Find the slope (\n",
        "m >\n",
        "0\n",
        ") of the line\n",
        "y\n",
        "=\n",
        "m\n",
        "x\n",
        "−\n",
        "5\n",
        " that is tangent to the circle with the equation\n",
        "x\n",
        "2\n",
        "+\n",
        "y\n",
        "2\n",
        "=\n",
        "1\n",
        "."
      ],
      "metadata": {
        "id": "xvfGPnRXUQZ3"
      }
    },
    {
      "cell_type": "code",
      "source": [
        "import sympy as sp\n",
        "\n",
        "# Değişkenleri tanımla\n",
        "m = sp.symbols('m', real=True, positive=True)  # Sadece pozitif m'yi arıyoruz\n",
        "x = sp.symbols('x', real=True)\n",
        "\n",
        "# Çember denklemi: x^2 + y^2 = 1\n",
        "# Doğru denklemi: y = mx - 5\n",
        "# y yerine (mx - 5) yazıyoruz\n",
        "y = m * x - 5\n",
        "circle_eq = x**2 + y**2 - 1\n",
        "\n",
        "# Çember denklemini aç ve düzenle\n",
        "expanded_eq = sp.expand(circle_eq)\n",
        "\n",
        "# Quadratik denklemin katsayılarını al: Ax^2 + Bx + C = 0\n",
        "coeffs = sp.Poly(expanded_eq, x).coeffs()\n",
        "A = coeffs[0]  # x^2'nin katsayısı\n",
        "B = coeffs[1]  # x'in katsayısı\n",
        "C = coeffs[2]  # Sabit terim\n",
        "\n",
        "# Tanjantlık koşulu: Diskriminant (B^2 - 4AC) = 0\n",
        "discriminant = B**2 - 4 * A * C\n",
        "solutions = sp.solve(discriminant, m)\n",
        "\n",
        "# Sadece pozitif eğimi seç\n",
        "positive_solution = [sol for sol in solutions if sol.is_real and sol > 0]\n",
        "\n",
        "# Sonucu yazdır\n",
        "if positive_solution:\n",
        "    print(f\"Tanjant doğru eğimi (m): {positive_solution[0]}\")\n",
        "else:\n",
        "    print(\"Pozitif bir çözüm bulunamadı.\")\n"
      ],
      "metadata": {
        "colab": {
          "base_uri": "https://localhost:8080/"
        },
        "id": "u6QM4_JbVKeh",
        "outputId": "2e5bf862-b006-44fd-95bb-8d571a7bb041"
      },
      "execution_count": 8,
      "outputs": [
        {
          "output_type": "stream",
          "name": "stdout",
          "text": [
            "Tanjant doğru eğimi (m): 2*sqrt(6)\n"
          ]
        }
      ]
    },
    {
      "cell_type": "markdown",
      "source": [
        "Find the intersection points of the hyperbola\n",
        "x\n",
        "2\n",
        "−\n",
        "y\n",
        "2\n",
        "=\n",
        "1\n",
        " with the ellipse's line\n",
        "x\n",
        "2\n",
        "+\n",
        "4\n",
        "y\n",
        "2\n",
        "=\n",
        "6\n",
        "."
      ],
      "metadata": {
        "id": "gpsbULZBVT9L"
      }
    },
    {
      "cell_type": "code",
      "source": [
        "import sympy as sp\n",
        "\n",
        "# Değişkenleri tanımla\n",
        "x, y = sp.symbols('x y')\n",
        "\n",
        "# Denklemler: x^2 - y^2 = 1 (Hiperbol) ve x^2 + 4y^2 = 6 (Elips)\n",
        "hyperbola_eq = x**2 - y**2 - 1\n",
        "ellipse_eq = x**2 + 4*y**2 - 6\n",
        "\n",
        "# Denklemleri çöz\n",
        "solutions = sp.solve([hyperbola_eq, ellipse_eq], (x, y))\n",
        "\n",
        "# Çözümleri yazdır\n",
        "print(\"Kesişim noktaları:\")\n",
        "for solution in solutions:\n",
        "    print(f\"x = {solution[0]}, y = {solution[1]}\")\n"
      ],
      "metadata": {
        "colab": {
          "base_uri": "https://localhost:8080/"
        },
        "id": "NEzyEMLiVVVA",
        "outputId": "4ca33437-8d87-4f6f-a883-037e88101ba8"
      },
      "execution_count": 9,
      "outputs": [
        {
          "output_type": "stream",
          "name": "stdout",
          "text": [
            "Kesişim noktaları:\n",
            "x = -sqrt(2), y = -1\n",
            "x = -sqrt(2), y = 1\n",
            "x = sqrt(2), y = -1\n",
            "x = sqrt(2), y = 1\n"
          ]
        }
      ]
    },
    {
      "cell_type": "markdown",
      "source": [
        "For the given hyperbola\n",
        "x\n",
        "2\n",
        "−\n",
        "y\n",
        "2\n",
        "=\n",
        "1\n",
        ", find the distance between its branches."
      ],
      "metadata": {
        "id": "cLwjDh52VgsH"
      }
    },
    {
      "cell_type": "code",
      "source": [
        "# Hiperbolanın denklemi x^2 - y^2 = 1\n",
        "# Genel hiperbola denklemi x^2/a^2 - y^2/b^2 = 1\n",
        "# Bu denklemde a = 1 ve b = 1 olduğundan dallar arasındaki mesafeyi hesaplayacağız\n",
        "\n",
        "# Parametreler\n",
        "a = 1  # Hiperbolanın a değeri\n",
        "\n",
        "# Dallar arasındaki mesafe: 2a\n",
        "distance_between_branches = 2 * a\n",
        "\n",
        "# Sonucu yazdır\n",
        "print(f\"Hiperbolanın dalları arasındaki mesafe: {distance_between_branches} birim\")\n"
      ],
      "metadata": {
        "colab": {
          "base_uri": "https://localhost:8080/"
        },
        "id": "5HhIHmhkViRk",
        "outputId": "99424ff1-fa0b-441f-bdda-5eb89914375c"
      },
      "execution_count": 10,
      "outputs": [
        {
          "output_type": "stream",
          "name": "stdout",
          "text": [
            "Hiperbolanın dalları arasındaki mesafe: 2 birim\n"
          ]
        }
      ]
    }
  ]
}