{
  "nbformat": 4,
  "nbformat_minor": 0,
  "metadata": {
    "colab": {
      "provenance": [],
      "authorship_tag": "ABX9TyNydd3fNBnyzDq9ebhORLQH",
      "include_colab_link": true
    },
    "kernelspec": {
      "name": "python3",
      "display_name": "Python 3"
    },
    "language_info": {
      "name": "python"
    }
  },
  "cells": [
    {
      "cell_type": "markdown",
      "metadata": {
        "id": "view-in-github",
        "colab_type": "text"
      },
      "source": [
        "<a href=\"https://colab.research.google.com/github/ilaydasevgi/ilayda_sevgi-Math-2024-25-Winter/blob/main/SECOUND_ORDER_SURFACES_ilaydasevgi.ipynb\" target=\"_parent\"><img src=\"https://colab.research.google.com/assets/colab-badge.svg\" alt=\"Open In Colab\"/></a>"
      ]
    },
    {
      "cell_type": "markdown",
      "source": [
        "Write the equation of a sphere with center at point\n",
        "P\n",
        "=\n",
        "(\n",
        "1\n",
        ",\n",
        "2\n",
        ",\n",
        "3\n",
        ")\n",
        " and radius\n",
        "r\n",
        "=\n",
        "3\n",
        "."
      ],
      "metadata": {
        "id": "zPMmdnNwKs6b"
      }
    },
    {
      "cell_type": "code",
      "execution_count": 1,
      "metadata": {
        "colab": {
          "base_uri": "https://localhost:8080/"
        },
        "id": "CEG3Iw1pKOgR",
        "outputId": "dc434886-d9ca-4784-d215-3e05fb4382b7"
      },
      "outputs": [
        {
          "output_type": "stream",
          "name": "stdout",
          "text": [
            "       2          2          2    \n",
            "(x - 1)  + (y - 2)  + (z - 3)  - 9\n"
          ]
        }
      ],
      "source": [
        "import sympy as sp\n",
        "\n",
        "# Değişkenleri tanımla\n",
        "x, y, z = sp.symbols('x y z')\n",
        "\n",
        "# Küre denklemi\n",
        "center = (1, 2, 3)\n",
        "radius = 3\n",
        "\n",
        "# Denklemi oluştur\n",
        "sphere_equation = (x - center[0])**2 + (y - center[1])**2 + (z - center[2])**2 - radius**2\n",
        "\n",
        "# Sonucu yazdır\n",
        "sp.pprint(sphere_equation)\n"
      ]
    },
    {
      "cell_type": "markdown",
      "source": [
        "Do the spheres with equations\n",
        "x\n",
        "2\n",
        "+\n",
        "y\n",
        "2\n",
        "+\n",
        "z\n",
        "2\n",
        "=\n",
        "1\n",
        " and\n",
        "x\n",
        "2\n",
        "+\n",
        "y\n",
        "2\n",
        "+\n",
        "z\n",
        "2\n",
        "=\n",
        "2\n",
        " have any common points?"
      ],
      "metadata": {
        "id": "ffSpQigMLW1e"
      }
    },
    {
      "cell_type": "code",
      "source": [],
      "metadata": {
        "id": "vOrUX3WrL9N2"
      },
      "execution_count": null,
      "outputs": []
    },
    {
      "cell_type": "markdown",
      "source": [
        "What curve in space is formed by the intersection of the sphere\n",
        "x\n",
        "2\n",
        "+\n",
        "y\n",
        "2\n",
        "+\n",
        "z\n",
        "2\n",
        "=\n",
        "1\n",
        " with the sphere\n",
        "(\n",
        "x\n",
        "−\n",
        "1\n",
        ")\n",
        "2\n",
        "+\n",
        "y\n",
        "2\n",
        "+\n",
        "z\n",
        "2\n",
        "=\n",
        "1\n",
        "? Find the equation of this curve."
      ],
      "metadata": {
        "id": "SVM3swe3MAM1"
      }
    },
    {
      "cell_type": "code",
      "source": [
        "import sympy as sp\n",
        "\n",
        "# Define the symbols\n",
        "x, y, z = sp.symbols('x y z')\n",
        "\n",
        "# Define the two sphere equations\n",
        "sphere1 = x**2 + y**2 + z**2 - 1  # x^2 + y^2 + z^2 = 1\n",
        "sphere2 = (x - 1)**2 + y**2 + z**2 - 1  # (x - 1)^2 + y^2 + z^2 = 1\n",
        "\n",
        "# Solve the system of equations\n",
        "solution = sp.solve([sphere1, sphere2], (x, y, z))\n",
        "\n",
        "# Output the solution\n",
        "solution\n"
      ],
      "metadata": {
        "colab": {
          "base_uri": "https://localhost:8080/"
        },
        "id": "b6hQyB-gMLLy",
        "outputId": "f84b7761-346c-4e69-c8e3-ec7f3a1e2016"
      },
      "execution_count": 6,
      "outputs": [
        {
          "output_type": "execute_result",
          "data": {
            "text/plain": [
              "[(1/2, -sqrt(3 - 4*z**2)/2, z), (1/2, sqrt(3 - 4*z**2)/2, z)]"
            ]
          },
          "metadata": {},
          "execution_count": 6
        }
      ]
    },
    {
      "cell_type": "markdown",
      "source": [
        "Write the equation of the tangent plane to the paraboloid\n",
        "z\n",
        "=\n",
        "(\n",
        "x\n",
        "−\n",
        "1\n",
        ")\n",
        "2\n",
        "+\n",
        "y\n",
        "2\n",
        "+\n",
        "1\n",
        " at point\n",
        "P\n",
        "=\n",
        "(\n",
        "1\n",
        ",\n",
        "0\n",
        ",\n",
        "1\n",
        ")\n",
        "."
      ],
      "metadata": {
        "id": "HbIJaOU0MO0Y"
      }
    },
    {
      "cell_type": "code",
      "source": [
        "import sympy as sp\n",
        "\n",
        "# Define symbols\n",
        "x, y = sp.symbols('x y')\n",
        "\n",
        "# Define the equation of the paraboloid\n",
        "z = (x - 1)**2 + y**2 + 1\n",
        "\n",
        "# Compute the partial derivatives with respect to x and y\n",
        "partial_x = sp.diff(z, x)\n",
        "partial_y = sp.diff(z, y)\n",
        "\n",
        "# Evaluate the partial derivatives at the point P = (1, 0)\n",
        "partial_x_at_P = partial_x.subs({x: 1, y: 0})\n",
        "partial_y_at_P = partial_y.subs({x: 1, y: 0})\n",
        "\n",
        "# Print the partial derivatives and the equation of the tangent plane\n",
        "print(f\"Partial derivative with respect to x: {partial_x_at_P}\")\n",
        "print(f\"Partial derivative with respect to y: {partial_y_at_P}\")\n",
        "\n",
        "# The tangent plane equation\n",
        "tangent_plane = z.subs({x: 1, y: 0})\n",
        "print(f\"Tangent plane equation at P(1, 0, 1): z = {tangent_plane}\")\n"
      ],
      "metadata": {
        "colab": {
          "base_uri": "https://localhost:8080/"
        },
        "id": "CPuyeT4eMQOw",
        "outputId": "d89bea87-82a4-4105-bf54-95d28390a83d"
      },
      "execution_count": 7,
      "outputs": [
        {
          "output_type": "stream",
          "name": "stdout",
          "text": [
            "Partial derivative with respect to x: 0\n",
            "Partial derivative with respect to y: 0\n",
            "Tangent plane equation at P(1, 0, 1): z = 1\n"
          ]
        }
      ]
    }
  ]
}