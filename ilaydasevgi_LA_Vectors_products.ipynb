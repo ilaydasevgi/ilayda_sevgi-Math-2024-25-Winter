{
  "nbformat": 4,
  "nbformat_minor": 0,
  "metadata": {
    "colab": {
      "provenance": [],
      "authorship_tag": "ABX9TyNobY7QlsRyFBoayCeYg+2w",
      "include_colab_link": true
    },
    "kernelspec": {
      "name": "python3",
      "display_name": "Python 3"
    },
    "language_info": {
      "name": "python"
    }
  },
  "cells": [
    {
      "cell_type": "markdown",
      "metadata": {
        "id": "view-in-github",
        "colab_type": "text"
      },
      "source": [
        "<a href=\"https://colab.research.google.com/github/ilaydasevgi/ilayda_sevgi-Math-2024-25-Winter/blob/main/ilaydasevgi_LA_Vectors_products.ipynb\" target=\"_parent\"><img src=\"https://colab.research.google.com/assets/colab-badge.svg\" alt=\"Open In Colab\"/></a>"
      ]
    },
    {
      "cell_type": "code",
      "source": [
        "import numpy as np\n",
        "import matplotlib.pyplot as plt\n",
        "\n",
        "# Define vectors\n",
        "u = np.array([2, 1])\n",
        "v = np.array([-1, 1])\n",
        "\n",
        "# Perform vector addition\n",
        "sum_vector = u + v\n",
        "\n",
        "# Plot vectors\n",
        "plt.figure()\n",
        "plt.quiver(0, 0, u[0], u[1], angles='xy', scale_units='xy', scale=1, color='r', label='Vector u')\n",
        "plt.quiver(0, 0, v[0], v[1], angles='xy', scale_units='xy', scale=1, color='b', label='Vector v')\n",
        "plt.quiver(0, 0, sum_vector[0], sum_vector[1], angles='xy', scale_units='xy', scale=1, color='g', label='u + v')\n",
        "\n",
        "# Setting up plot limits and labels\n",
        "plt.xlim(-3, 3)\n",
        "plt.ylim(-3, 3)\n",
        "plt.xlabel('x')\n",
        "plt.ylabel('y')\n",
        "plt.legend()\n",
        "plt.grid()\n",
        "plt.show()\n",
        "\n",
        "print(\"The sum of vectors u and v is:\", sum_vector)"
      ],
      "metadata": {
        "colab": {
          "base_uri": "https://localhost:8080/",
          "height": 472
        },
        "id": "COP_7nT0bh0Z",
        "outputId": "e386d7d8-8fd4-40d4-dd0b-934f6d380bc6"
      },
      "execution_count": 1,
      "outputs": [
        {
          "output_type": "display_data",
          "data": {
            "text/plain": [
              "<Figure size 640x480 with 1 Axes>"
            ],
            "image/png": "[encoded data removed]"
          },
          "metadata": {}
        },
        {
          "output_type": "stream",
          "name": "stdout",
          "text": [
            "The sum of vectors u and v is: [1 2]\n"
          ]
        }
      ]
    },
    {
      "cell_type": "code",
      "source": [
        "# Calculate the area of the triangle spanned by vectors u and v\n",
        "area_triangle = 0.5 * np.abs(np.cross(u, v))\n",
        "\n",
        "print(\"The area of the triangle spanned by vectors u and v is:\", area_triangle)"
      ],
      "metadata": {
        "colab": {
          "base_uri": "https://localhost:8080/"
        },
        "id": "k0-175PncKNs",
        "outputId": "1cdbf135-2cb0-40d3-b805-305fbb398d7d"
      },
      "execution_count": 2,
      "outputs": [
        {
          "output_type": "stream",
          "name": "stdout",
          "text": [
            "The area of the triangle spanned by vectors u and v is: 1.5\n"
          ]
        }
      ]
    },
    {
      "cell_type": "code",
      "source": [
        "import numpy as np\n",
        "\n",
        "# Define the vectors, making u and v 3D\n",
        "u = np.array([2, 1, 0])  # Added z-component of 0\n",
        "v = np.array([-1, 1, 0]) # Added z-component of 0\n",
        "w = np.array([1, 2, 0])\n",
        "\n",
        "# Calculate the volume of the parallelepiped\n",
        "volume_parallelepiped = np.abs(np.dot(u, np.cross(v, w)))\n",
        "\n",
        "print(\"The volume of the parallelepiped spanned by vectors u, v, and w is:\", volume_parallelepiped)"
      ],
      "metadata": {
        "colab": {
          "base_uri": "https://localhost:8080/"
        },
        "id": "pVxMIQv8ctMW",
        "outputId": "98a21929-f5f7-43d9-a3cc-b2949e306afc"
      },
      "execution_count": 5,
      "outputs": [
        {
          "output_type": "stream",
          "name": "stdout",
          "text": [
            "The volume of the parallelepiped spanned by vectors u, v, and w is: 0\n"
          ]
        }
      ]
    },
    {
      "cell_type": "code",
      "source": [
        "# Check if vectors u and v are perpendicular\n",
        "dot_product_uv = np.dot(u, v)\n",
        "is_perpendicular = dot_product_uv == 0\n",
        "\n",
        "print(\"Are vectors u and v perpendicular?\", is_perpendicular)"
      ],
      "metadata": {
        "colab": {
          "base_uri": "https://localhost:8080/"
        },
        "id": "8tXPisCgcKqt",
        "outputId": "368f77b4-aad3-4f46-c22e-e6c2542a0826"
      },
      "execution_count": 6,
      "outputs": [
        {
          "output_type": "stream",
          "name": "stdout",
          "text": [
            "Are vectors u and v perpendicular? False\n"
          ]
        }
      ]
    },
    {
      "cell_type": "code",
      "source": [
        "# Define vectors\n",
        "a = np.array([4, 2, 1])\n",
        "b = np.array([1, 3, 2])\n",
        "\n",
        "# Calculate the angle in degrees between a and b\n",
        "cos_theta = np.dot(a, b) / (np.linalg.norm(a) * np.linalg.norm(b))\n",
        "angle_degrees = np.degrees(np.arccos(cos_theta))\n",
        "\n",
        "print(\"The angle between vectors a and b in degrees is:\", angle_degrees)"
      ],
      "metadata": {
        "colab": {
          "base_uri": "https://localhost:8080/"
        },
        "id": "26OTAAr7cL-a",
        "outputId": "e1203701-3553-47e5-d579-705ac67f071f"
      },
      "execution_count": 7,
      "outputs": [
        {
          "output_type": "stream",
          "name": "stdout",
          "text": [
            "The angle between vectors a and b in degrees is: 45.58469140280702\n"
          ]
        }
      ]
    },
    {
      "cell_type": "code",
      "source": [
        "# Define vectors\n",
        "a = np.array([1, 2, 3])\n",
        "b = np.array([4, 5, 6])\n",
        "c = np.array([7, 8, 9])\n",
        "\n",
        "# Calculate the left side of the identity\n",
        "left_side = np.cross(a, np.cross(b, c))\n",
        "\n",
        "# Calculate the right side of the identity\n",
        "right_side = (np.dot(a, c) * b) - (np.dot(a, b) * c)\n",
        "\n",
        "# Verify if both sides are equal\n",
        "is_identity_satisfied = np.allclose(left_side, right_side)\n",
        "\n",
        "print(\"Left side of the identity:\", left_side)\n",
        "print(\"Right side of the identity:\", right_side)\n",
        "print(\"Is the identity satisfied?\", is_identity_satisfied)"
      ],
      "metadata": {
        "colab": {
          "base_uri": "https://localhost:8080/"
        },
        "id": "2bE2relZcMzY",
        "outputId": "f22e8fd7-2f48-43e2-bea6-e4109c6b5c3b"
      },
      "execution_count": 8,
      "outputs": [
        {
          "output_type": "stream",
          "name": "stdout",
          "text": [
            "Left side of the identity: [-24  -6  12]\n",
            "Right side of the identity: [-24  -6  12]\n",
            "Is the identity satisfied? True\n"
          ]
        }
      ]
    }
  ]
}