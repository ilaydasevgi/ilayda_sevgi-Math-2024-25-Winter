{
  "nbformat": 4,
  "nbformat_minor": 0,
  "metadata": {
    "colab": {
      "provenance": [],
      "authorship_tag": "ABX9TyONDOSMnAC/1+a4mADcB3xM",
      "include_colab_link": true
    },
    "kernelspec": {
      "name": "python3",
      "display_name": "Python 3"
    },
    "language_info": {
      "name": "python"
    }
  },
  "cells": [
    {
      "cell_type": "markdown",
      "metadata": {
        "id": "view-in-github",
        "colab_type": "text"
      },
      "source": [
        "<a href=\"https://colab.research.google.com/github/ilaydasevgi/ilayda_sevgi-Math-2024-25-Winter/blob/main/ilaydasevgi_LA_SoLEGauss.ipynb\" target=\"_parent\"><img src=\"https://colab.research.google.com/assets/colab-badge.svg\" alt=\"Open In Colab\"/></a>"
      ]
    },
    {
      "cell_type": "code",
      "execution_count": 1,
      "metadata": {
        "colab": {
          "base_uri": "https://localhost:8080/"
        },
        "id": "6sPtujSyWl0J",
        "outputId": "a0a154f2-d62b-4ea0-dc9f-4bff2473ba1d"
      },
      "outputs": [
        {
          "output_type": "stream",
          "name": "stdout",
          "text": [
            "1. Sorunun Gauss eliminasyonuyla çözümü (satır indirgenmiş hali):\n",
            "(Matrix([\n",
            "[1, 0, 0,  8],\n",
            "[0, 1, 0, -9],\n",
            "[0, 0, 1, -7]]), (0, 1, 2))\n",
            "2. Sorunun Gauss eliminasyonuyla çözümü (satır indirgenmiş hali):\n",
            "(Matrix([\n",
            "[1, 0, 0,  4, -2],\n",
            "[0, 1, 0, -5,  3],\n",
            "[0, 0, 1,  0,  1]]), (0, 1, 2))\n",
            "3. Sorunun Gauss eliminasyonuyla çözümü (satır indirgenmiş hali):\n",
            "(Matrix([\n",
            "[1, 0, 0, 0, 5/12],\n",
            "[0, 1, 0, 0,  1/2],\n",
            "[0, 0, 1, 0, -1/4],\n",
            "[0, 0, 0, 1,  7/6]]), (0, 1, 2, 3))\n"
          ]
        }
      ],
      "source": [
        "from sympy import symbols, Matrix\n",
        "\n",
        "# Değişkenleri tanımla\n",
        "x, y, z, t = symbols('x y z t')\n",
        "\n",
        "# 1. Sistem (x, y ve z için)\n",
        "# x + 2y - 2z = 4\n",
        "# 2x + y + z = 0\n",
        "# 3x + 2y + z = -1\n",
        "matrix_1 = Matrix([\n",
        "    [1, 2, -2, 4],\n",
        "    [2, 1, 1, 0],\n",
        "    [3, 2, 1, -1]\n",
        "])\n",
        "\n",
        "# Gauss eliminasyonunu uygula (1. sistem)\n",
        "rref_matrix_1 = matrix_1.rref()\n",
        "print(\"1. Sorunun Gauss eliminasyonuyla çözümü (satır indirgenmiş hali):\")\n",
        "print(rref_matrix_1)\n",
        "\n",
        "# 2. Sistem (x, y, z ve t için)\n",
        "# x + y + z - t = 2\n",
        "# 2x + y + z + 3t = 0\n",
        "# 3x + 2y - z + 2t = -1\n",
        "matrix_2 = Matrix([\n",
        "    [1, 1, 1, -1, 2],\n",
        "    [2, 1, 1, 3, 0],\n",
        "    [3, 2, -1, 2, -1]\n",
        "])\n",
        "\n",
        "# Gauss eliminasyonunu uygula (2. sistem)\n",
        "rref_matrix_2 = matrix_2.rref()\n",
        "print(\"2. Sorunun Gauss eliminasyonuyla çözümü (satır indirgenmiş hali):\")\n",
        "print(rref_matrix_2)\n",
        "\n",
        "# 3. Sistem (x, y, z ve t için)\n",
        "# x + y - z - t = 0\n",
        "# 2x + 3y - 2z + t = 4\n",
        "# 3x + 0*y + 5z + 0*t = 0\n",
        "# x - y - 3z + 2t = 3\n",
        "matrix_3 = Matrix([\n",
        "    [1, 1, -1, -1, 0],\n",
        "    [2, 3, -2, 1, 4],\n",
        "    [3, 0, 5, 0, 0],\n",
        "    [1, -1, -3, 2, 3]\n",
        "])\n",
        "\n",
        "# Gauss eliminasyonunu uygula (3. sistem)\n",
        "rref_matrix_3 = matrix_3.rref()\n",
        "print(\"3. Sorunun Gauss eliminasyonuyla çözümü (satır indirgenmiş hali):\")\n",
        "print(rref_matrix_3)"
      ]
    }
  ]
}