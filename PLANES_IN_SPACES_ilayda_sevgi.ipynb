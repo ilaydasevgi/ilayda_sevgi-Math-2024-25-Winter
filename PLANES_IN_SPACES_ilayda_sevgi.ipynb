{
  "nbformat": 4,
  "nbformat_minor": 0,
  "metadata": {
    "colab": {
      "provenance": [],
      "authorship_tag": "ABX9TyPaU537Q744MXniY9/Z9R/X",
      "include_colab_link": true
    },
    "kernelspec": {
      "name": "python3",
      "display_name": "Python 3"
    },
    "language_info": {
      "name": "python"
    }
  },
  "cells": [
    {
      "cell_type": "markdown",
      "metadata": {
        "id": "view-in-github",
        "colab_type": "text"
      },
      "source": [
        "<a href=\"https://colab.research.google.com/github/ilaydasevgi/ilayda_sevgi-Math-2024-25-Winter/blob/main/PLANES_IN_SPACES_ilayda_sevgi.ipynb\" target=\"_parent\"><img src=\"https://colab.research.google.com/assets/colab-badge.svg\" alt=\"Open In Colab\"/></a>"
      ]
    },
    {
      "cell_type": "markdown",
      "source": [
        "The plane passes through points\n",
        "A\n",
        "(\n",
        "1\n",
        ",\n",
        "2\n",
        ",\n",
        "3\n",
        ")\n",
        ",\n",
        "B\n",
        "(\n",
        "3\n",
        ",\n",
        "4\n",
        ",\n",
        "5\n",
        ")\n",
        ", and\n",
        "C\n",
        "(\n",
        "2\n",
        ",\n",
        "1\n",
        ",\n",
        "4\n",
        ")\n",
        ". Find the equation of the plane."
      ],
      "metadata": {
        "id": "jOROZl7I6nKc"
      }
    },
    {
      "cell_type": "code",
      "source": [
        "import numpy as np\n",
        "\n",
        "# Noktaları tanımla\n",
        "A = np.array([1, 2, 3])\n",
        "B = np.array([3, 4, 5])\n",
        "C = np.array([2, 1, 4])\n",
        "\n",
        "# İki vektör oluştur: AB ve AC\n",
        "AB = B - A\n",
        "AC = C - A\n",
        "\n",
        "# Normal vektörü hesapla (çarpraz çarpım)\n",
        "normal_vector = np.cross(AB, AC)\n",
        "\n",
        "# Normal vektörün bileşenleri\n",
        "a, b, c = normal_vector\n",
        "\n",
        "# D sabitini bul (A noktasını kullanarak)\n",
        "d = -(a * A[0] + b * A[1] + c * A[2])\n",
        "\n",
        "# Düzlem denklemi: ax + by + cz + d = 0\n",
        "print(f\"Düzlem denklemi: {a}x + {b}y + {c}z + {d} = 0\")\n"
      ],
      "metadata": {
        "colab": {
          "base_uri": "https://localhost:8080/"
        },
        "id": "uDKbJPgE6oUw",
        "outputId": "39b92332-2659-4009-e133-f0f75fa71097"
      },
      "execution_count": 1,
      "outputs": [
        {
          "output_type": "stream",
          "name": "stdout",
          "text": [
            "Düzlem denklemi: 4x + 0y + -4z + 8 = 0\n"
          ]
        }
      ]
    },
    {
      "cell_type": "markdown",
      "source": [
        "The plane passes through point\n",
        "A\n",
        "(\n",
        "1\n",
        ",\n",
        "2\n",
        ",\n",
        "3\n",
        ")\n",
        " and is parallel to the plane\n",
        "2\n",
        "x\n",
        "+\n",
        "3\n",
        "y\n",
        "+\n",
        "4\n",
        "z\n",
        "=\n",
        "5\n",
        ". Find the equation of the plane."
      ],
      "metadata": {
        "id": "7oRXKgk26o5m"
      }
    },
    {
      "cell_type": "code",
      "source": [
        "# Verilen düzlemin normal vektörünün bileşenleri\n",
        "a, b, c = 2, 3, 4  # Normal vektör\n",
        "\n",
        "# Düzlemden geçen nokta A\n",
        "A = (1, 2, 3)  # A(x, y, z)\n",
        "\n",
        "# D sabitini bulmak için noktayı düzlem denklemi içine koyuyoruz\n",
        "d = -(a * A[0] + b * A[1] + c * A[2])\n",
        "\n",
        "# Düzlem denklemini yazdır\n",
        "print(f\"Düzlem denklemi: {a}x + {b}y + {c}z + {d} = 0\")\n"
      ],
      "metadata": {
        "colab": {
          "base_uri": "https://localhost:8080/"
        },
        "id": "mbKER9Z26pNC",
        "outputId": "a2e43f50-dc36-4250-d59d-a7335533de74"
      },
      "execution_count": 2,
      "outputs": [
        {
          "output_type": "stream",
          "name": "stdout",
          "text": [
            "Düzlem denklemi: 2x + 3y + 4z + -20 = 0\n"
          ]
        }
      ]
    },
    {
      "cell_type": "markdown",
      "source": [
        "The plane passes through point\n",
        "A\n",
        "(\n",
        "1\n",
        ",\n",
        "2\n",
        ",\n",
        "3\n",
        ")\n",
        " and is perpendicular to the normal vector\n",
        "n\n",
        "→\n",
        "=\n",
        "[\n",
        "2\n",
        ",\n",
        "3\n",
        ",\n",
        "4\n",
        "]\n",
        ". Find the equation of the plane."
      ],
      "metadata": {
        "id": "WN4mnxnT6pdt"
      }
    },
    {
      "cell_type": "code",
      "source": [
        "# Verilen normal vektörün bileşenleri\n",
        "a, b, c = 2, 3, 4  # Normal vektörün x, y, z bileşenleri\n",
        "\n",
        "# Düzlemden geçen noktanın koordinatları\n",
        "x0, y0, z0 = 1, 2, 3  # Nokta A\n",
        "\n",
        "# Düzlem sabiti 'd'yi hesapla\n",
        "d = -(a * x0 + b * y0 + c * z0)\n",
        "\n",
        "# Düzlem denklemini yazdır\n",
        "print(f\"Düzlem denklemi: {a}x + {b}y + {c}z + {d} = 0\")\n"
      ],
      "metadata": {
        "colab": {
          "base_uri": "https://localhost:8080/"
        },
        "id": "AsYQoBvt6pxk",
        "outputId": "b060624f-42d6-4e74-9026-d8c16766953a"
      },
      "execution_count": 3,
      "outputs": [
        {
          "output_type": "stream",
          "name": "stdout",
          "text": [
            "Düzlem denklemi: 2x + 3y + 4z + -20 = 0\n"
          ]
        }
      ]
    },
    {
      "cell_type": "markdown",
      "source": [
        "We have two planes\n",
        "2\n",
        "x\n",
        "+\n",
        "3\n",
        "y\n",
        "+\n",
        "4\n",
        "z\n",
        "=\n",
        "5\n",
        " and\n",
        "3\n",
        "x\n",
        "+\n",
        "4\n",
        "y\n",
        "+\n",
        "2\n",
        "z\n",
        "=\n",
        "6\n",
        ". Find the line of intersection of these planes."
      ],
      "metadata": {
        "id": "G4xCoLPC73WY"
      }
    },
    {
      "cell_type": "code",
      "source": [
        "import numpy as np\n",
        "from sympy import symbols, Eq, solve\n",
        "\n",
        "# Define the normal vectors of the planes\n",
        "n1 = np.array([2, 3, 4])  # Normal vector of the first plane\n",
        "n2 = np.array([3, 4, 2])  # Normal vector of the second plane\n",
        "\n",
        "# Compute the direction vector by taking the cross product of the normal vectors\n",
        "direction_vector = np.cross(n1, n2)\n",
        "\n",
        "# Define the variables\n",
        "x, y, z = symbols('x y z')\n",
        "\n",
        "# Equations of the planes\n",
        "plane1_eq = Eq(2*x + 3*y + 4*z, 5)\n",
        "plane2_eq = Eq(3*x + 4*y + 2*z, 6)\n",
        "\n",
        "# Solve for a point on the line (by setting z = 0)\n",
        "point_on_line = solve([plane1_eq.subs(z, 0), plane2_eq.subs(z, 0)], (x, y))\n",
        "\n",
        "# Print the results\n",
        "print(f\"Direction vector of the line of intersection: {direction_vector}\")\n",
        "print(f\"Point on the line: {point_on_line}\")\n"
      ],
      "metadata": {
        "colab": {
          "base_uri": "https://localhost:8080/"
        },
        "id": "AwosppXj73rb",
        "outputId": "df97ddb4-adad-4551-f2b9-a12ba617ad24"
      },
      "execution_count": 4,
      "outputs": [
        {
          "output_type": "stream",
          "name": "stdout",
          "text": [
            "Direction vector of the line of intersection: [-10   8  -1]\n",
            "Point on the line: {x: -2, y: 3}\n"
          ]
        }
      ]
    },
    {
      "cell_type": "markdown",
      "source": [
        "Write the equation of the plane passing through point\n",
        "A\n",
        "(\n",
        "1\n",
        ",\n",
        "2\n",
        ",\n",
        "3\n",
        ")\n",
        " and parallel to vectors\n",
        "v\n",
        "1\n",
        "→\n",
        "=\n",
        "[\n",
        "1\n",
        ",\n",
        "0\n",
        ",\n",
        "1\n",
        "]\n",
        " and\n",
        "v\n",
        "2\n",
        "→\n",
        "=\n",
        "[\n",
        "0\n",
        ",\n",
        "1\n",
        ",\n",
        "−\n",
        "1\n",
        "]\n",
        "."
      ],
      "metadata": {
        "id": "kPo99X2x8HQ9"
      }
    },
    {
      "cell_type": "code",
      "source": [
        "import numpy as np\n",
        "\n",
        "# Given vectors v1 and v2\n",
        "v1 = np.array([1, 0, 1])\n",
        "v2 = np.array([0, 1, -1])\n",
        "\n",
        "# Compute the normal vector by taking the cross product\n",
        "normal_vector = np.cross(v1, v2)\n",
        "\n",
        "# Given point A (x0, y0, z0)\n",
        "x0, y0, z0 = 1, 2, 3\n",
        "\n",
        "# Extract the components of the normal vector\n",
        "a, b, c = normal_vector\n",
        "\n",
        "# Equation of the plane: ax + by + cz + d = 0\n",
        "# Using point A (x0, y0, z0) to solve for d\n",
        "d = -(a * x0 + b * y0 + c * z0)\n",
        "\n",
        "# Display the equation of the plane\n",
        "print(f\"The equation of the plane is: {a}x + {b}y + {c}z + {d} = 0\")\n"
      ],
      "metadata": {
        "colab": {
          "base_uri": "https://localhost:8080/"
        },
        "id": "akTx23a38HkV",
        "outputId": "801b2046-0332-44d1-97dc-073c8fac4791"
      },
      "execution_count": 5,
      "outputs": [
        {
          "output_type": "stream",
          "name": "stdout",
          "text": [
            "The equation of the plane is: -1x + 1y + 1z + -4 = 0\n"
          ]
        }
      ]
    },
    {
      "cell_type": "markdown",
      "source": [
        "We have the plane\n",
        "2\n",
        "x\n",
        "+\n",
        "3\n",
        "y\n",
        "+\n",
        "4\n",
        "z\n",
        "=\n",
        "5\n",
        ". Find an example of a plane parallel and perpendicular to it.\n"
      ],
      "metadata": {
        "id": "3J3UW0wb8fIT"
      }
    },
    {
      "cell_type": "code",
      "source": [
        "import numpy as np\n",
        "from sympy import symbols, Eq, solve\n",
        "\n",
        "# Normal vector of the given plane\n",
        "n1 = np.array([2, 3, 4])\n",
        "\n",
        "# Plane parallel to the given plane\n",
        "# We can choose any constant d for the parallel plane\n",
        "d_parallel = 7  # Example of a different constant\n",
        "plane_parallel_eq = f\"2x + 3y + 4z = {d_parallel}\"\n",
        "\n",
        "# Plane perpendicular to the given plane\n",
        "# The normal vector of the perpendicular plane must satisfy n1 . n2 = 0\n",
        "a, b, c = symbols('a b c')\n",
        "\n",
        "# Set up the equation for perpendicularity (dot product = 0)\n",
        "dot_product_eq = Eq(np.dot(n1, [a, b, c]), 0)\n",
        "\n",
        "# Solve for one of the variables in terms of the others (for simplicity, solve for a)\n",
        "perpendicular_solutions = solve(dot_product_eq, a)\n",
        "\n",
        "# We can choose specific values for b and c, and find the corresponding a\n",
        "b_value = 1  # Example choice for b\n",
        "c_value = 2  # Example choice for c\n",
        "a_value = perpendicular_solutions[0].subs({b: b_value, c: c_value})\n",
        "\n",
        "# Equation of the perpendicular plane (using normal vector [a, b, c])\n",
        "plane_perpendicular_eq = f\"{a_value}x + {b_value}y + {c_value}z = 0\"\n",
        "\n",
        "# Output the results\n",
        "print(f\"Equation of a parallel plane: {plane_parallel_eq}\")\n",
        "print(f\"Equation of a perpendicular plane: {plane_perpendicular_eq}\")\n"
      ],
      "metadata": {
        "colab": {
          "base_uri": "https://localhost:8080/"
        },
        "id": "TuhuqIq18fcf",
        "outputId": "3b91b0cf-5f99-4937-ab48-0b908624e3a2"
      },
      "execution_count": 6,
      "outputs": [
        {
          "output_type": "stream",
          "name": "stdout",
          "text": [
            "Equation of a parallel plane: 2x + 3y + 4z = 7\n",
            "Equation of a perpendicular plane: -11/2x + 1y + 2z = 0\n"
          ]
        }
      ]
    },
    {
      "cell_type": "markdown",
      "source": [
        "We have the plane\n",
        "2\n",
        "x\n",
        "+\n",
        "3\n",
        "y\n",
        "+\n",
        "4\n",
        "z\n",
        "=\n",
        "5\n",
        " and point\n",
        "A\n",
        "(\n",
        "1\n",
        ",\n",
        "2\n",
        ",\n",
        "3\n",
        ")\n",
        ". Find the distance from point\n",
        "A\n",
        " to this plane."
      ],
      "metadata": {
        "id": "gSUC-ZmOC8ep"
      }
    },
    {
      "cell_type": "code",
      "source": [
        "import math\n",
        "\n",
        "# Given plane equation: 2x + 3y + 4z = 5\n",
        "a, b, c, d = 2, 3, 4, -5  # Coefficients of the plane equation (rewritten as ax + by + cz + d = 0)\n",
        "\n",
        "# Coordinates of point A\n",
        "x1, y1, z1 = 1, 2, 3\n",
        "\n",
        "# Calculate the distance using the formula\n",
        "numerator = abs(a * x1 + b * y1 + c * z1 + d)\n",
        "denominator = math.sqrt(a**2 + b**2 + c**2)\n",
        "\n",
        "distance = numerator / denominator\n",
        "\n",
        "# Output the result\n",
        "print(f\"The distance from point A({x1}, {y1}, {z1}) to the plane is: {distance}\")\n"
      ],
      "metadata": {
        "colab": {
          "base_uri": "https://localhost:8080/"
        },
        "id": "LtnYnRn4C83A",
        "outputId": "ae6ec7c1-ee05-43b7-fe5a-0e8b57302e0c"
      },
      "execution_count": 8,
      "outputs": [
        {
          "output_type": "stream",
          "name": "stdout",
          "text": [
            "The distance from point A(1, 2, 3) to the plane is: 2.785430072655778\n",
            "The distance from point A(1, 2, 3) to the plane is: 2.785430072655778\n"
          ]
        }
      ]
    },
    {
      "cell_type": "markdown",
      "source": [
        "The plane intersects the coordinate axes at points\n",
        "A\n",
        "(\n",
        "2\n",
        ",\n",
        "0\n",
        ",\n",
        "0\n",
        ")\n",
        ",\n",
        "B\n",
        "(\n",
        "0\n",
        ",\n",
        "3\n",
        ",\n",
        "0\n",
        ")\n",
        ", and\n",
        "C\n",
        "(\n",
        "0\n",
        ",\n",
        "0\n",
        ",\n",
        "4\n",
        ")\n",
        ". Find the equation of the plane."
      ],
      "metadata": {
        "id": "Mw3ZxxpuDRtN"
      }
    },
    {
      "cell_type": "code",
      "source": [
        "import numpy as np\n",
        "\n",
        "# Given points A(2, 0, 0), B(0, 3, 0), C(0, 0, 4)\n",
        "A = np.array([2, 0, 0])\n",
        "B = np.array([0, 3, 0])\n",
        "C = np.array([0, 0, 4])\n",
        "\n",
        "# Find vectors AB and AC\n",
        "AB = B - A\n",
        "AC = C - A\n",
        "\n",
        "# Compute the cross product to find the normal vector (a, b, c)\n",
        "normal_vector = np.cross(AB, AC)\n",
        "\n",
        "# Extract the components of the normal vector (a, b, c)\n",
        "a, b, c = normal_vector\n",
        "\n",
        "# The equation of the plane is ax + by + cz = d\n",
        "# We can use point A(2, 0, 0) to calculate d\n",
        "d = np.dot(normal_vector, A)\n",
        "\n",
        "# Display the equation of the plane\n",
        "print(f\"The equation of the plane is: {a}x + {b}y + {c}z = {d}\")\n"
      ],
      "metadata": {
        "colab": {
          "base_uri": "https://localhost:8080/"
        },
        "id": "DpF1ODfRDR_t",
        "outputId": "8876d963-df64-4bfd-d208-e4b921e4b23c"
      },
      "execution_count": 9,
      "outputs": [
        {
          "output_type": "stream",
          "name": "stdout",
          "text": [
            "The equation of the plane is: 12x + 8y + 6z = 24\n"
          ]
        }
      ]
    },
    {
      "cell_type": "markdown",
      "source": [
        "Calculate the angle between the plane\n",
        "x\n",
        "+\n",
        "y\n",
        "+\n",
        "z\n",
        "=\n",
        "1\n",
        " and the plane\n",
        "x\n",
        "=\n",
        "0\n",
        " (i.e., the\n",
        "y\n",
        "z\n",
        " plane)."
      ],
      "metadata": {
        "id": "H9bjea4TDgtE"
      }
    },
    {
      "cell_type": "code",
      "source": [
        "import numpy as np\n",
        "\n",
        "# Normal vectors of the planes\n",
        "n1 = np.array([1, 1, 1])  # Normal vector of plane 1: x + y + z = 1\n",
        "n2 = np.array([1, 0, 0])  # Normal vector of plane 2: x = 0\n",
        "\n",
        "# Dot product of the two normal vectors\n",
        "dot_product = np.dot(n1, n2)\n",
        "\n",
        "# Magnitudes of the normal vectors\n",
        "magnitude_n1 = np.linalg.norm(n1)\n",
        "magnitude_n2 = np.linalg.norm(n2)\n",
        "\n",
        "# Calculate the cosine of the angle\n",
        "cos_theta = abs(dot_product) / (magnitude_n1 * magnitude_n2)\n",
        "\n",
        "# Calculate the angle in radians, then convert to degrees\n",
        "theta_radians = np.arccos(cos_theta)\n",
        "theta_degrees = np.degrees(theta_radians)\n",
        "\n",
        "# Output the result\n",
        "print(f\"The angle between the planes is {theta_degrees} degrees.\")\n"
      ],
      "metadata": {
        "id": "KSQ7wGyGDhBI",
        "outputId": "a76cef70-88be-446c-c8bb-049ac4610b29",
        "colab": {
          "base_uri": "https://localhost:8080/"
        }
      },
      "execution_count": 10,
      "outputs": [
        {
          "output_type": "stream",
          "name": "stdout",
          "text": [
            "The angle between the planes is 54.735610317245346 degrees.\n"
          ]
        }
      ]
    },
    {
      "cell_type": "markdown",
      "source": [
        "Find the vector perpendicular to the plane\n",
        "x\n",
        "+\n",
        "y\n",
        "+\n",
        "z\n",
        "=\n",
        "1\n",
        "."
      ],
      "metadata": {
        "id": "ekecncY3D1rh"
      }
    },
    {
      "cell_type": "code",
      "source": [
        "import numpy as np\n",
        "\n",
        "# Coefficients of the plane equation x + y + z = 1\n",
        "a, b, c = 1, 1, 1\n",
        "\n",
        "# The normal vector to the plane is simply [a, b, c]\n",
        "normal_vector = np.array([a, b, c])\n",
        "\n",
        "# Output the result\n",
        "print(f\"The vector perpendicular to the plane is: {normal_vector}\")\n"
      ],
      "metadata": {
        "id": "3WEamQkeD160",
        "outputId": "39d3fac0-0676-45f6-dba0-ff7e8271c35c",
        "colab": {
          "base_uri": "https://localhost:8080/"
        }
      },
      "execution_count": 11,
      "outputs": [
        {
          "output_type": "stream",
          "name": "stdout",
          "text": [
            "The vector perpendicular to the plane is: [1 1 1]\n"
          ]
        }
      ]
    }
  ]
}