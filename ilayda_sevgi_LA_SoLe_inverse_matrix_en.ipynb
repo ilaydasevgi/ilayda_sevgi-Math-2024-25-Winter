{
  "nbformat": 4,
  "nbformat_minor": 0,
  "metadata": {
    "colab": {
      "provenance": [],
      "authorship_tag": "ABX9TyPttP8Pd9rqWhET/fAfVbnS",
      "include_colab_link": true
    },
    "kernelspec": {
      "name": "python3",
      "display_name": "Python 3"
    },
    "language_info": {
      "name": "python"
    }
  },
  "cells": [
    {
      "cell_type": "markdown",
      "metadata": {
        "id": "view-in-github",
        "colab_type": "text"
      },
      "source": [
        "<a href=\"https://colab.research.google.com/github/ilaydasevgi/ilayda_sevgi-Math-2024-25-Winter/blob/main/ilayda_sevgi_LA_SoLe_inverse_matrix_en.ipynb\" target=\"_parent\"><img src=\"https://colab.research.google.com/assets/colab-badge.svg\" alt=\"Open In Colab\"/></a>"
      ]
    },
    {
      "cell_type": "code",
      "execution_count": 1,
      "metadata": {
        "colab": {
          "base_uri": "https://localhost:8080/"
        },
        "id": "r7HPgtgBHms4",
        "outputId": "8eefe05e-4769-4162-ef97-ab77714b0af5"
      },
      "outputs": [
        {
          "output_type": "stream",
          "name": "stdout",
          "text": [
            "[1.         1.         0.66666667]\n"
          ]
        }
      ],
      "source": [
        "import numpy as np\n",
        "\n",
        "# Define the coefficient matrix A and the constant vector b\n",
        "A = np.array([[1, 2, 3], [2, 0, 3], [1, 0, 3]])\n",
        "b = np.array([5, 4, 3])\n",
        "\n",
        "# Calculate the inverse of matrix A\n",
        "A_inv = np.linalg.inv(A)\n",
        "\n",
        "# Solve for x by multiplying the inverse of A with b\n",
        "x = A_inv.dot(b)\n",
        "\n",
        "# Print the solution\n",
        "print(x)"
      ]
    },
    {
      "cell_type": "code",
      "source": [
        "import numpy as np\n",
        "\n",
        "# Define the coefficient matrix A and the constant vector b\n",
        "A = np.array([[21, 222, 32], [4, 5, 6], [7, 8, 9]])\n",
        "b = np.array([41, 93, 145])\n",
        "\n",
        "# Calculate the inverse of matrix A\n",
        "A_inv = np.linalg.inv(A)\n",
        "\n",
        "# Solve for x by multiplying the inverse of A with b\n",
        "x = A_inv.dot(b)\n",
        "\n",
        "# Print the solution\n",
        "print(x)"
      ],
      "metadata": {
        "colab": {
          "base_uri": "https://localhost:8080/"
        },
        "id": "-J0wEyWQIMbx",
        "outputId": "8b3004d2-085a-478b-f693-5fc6e8372128"
      },
      "execution_count": 2,
      "outputs": [
        {
          "output_type": "stream",
          "name": "stdout",
          "text": [
            "[ 6.65899403 -2.31798806 12.99232737]\n"
          ]
        }
      ]
    }
  ]
}