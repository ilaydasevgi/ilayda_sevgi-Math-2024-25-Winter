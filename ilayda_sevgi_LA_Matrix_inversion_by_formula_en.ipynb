{
  "nbformat": 4,
  "nbformat_minor": 0,
  "metadata": {
    "colab": {
      "provenance": [],
      "authorship_tag": "ABX9TyP1493RmD0Ptbqfy1lCdp9d",
      "include_colab_link": true
    },
    "kernelspec": {
      "name": "python3",
      "display_name": "Python 3"
    },
    "language_info": {
      "name": "python"
    }
  },
  "cells": [
    {
      "cell_type": "markdown",
      "metadata": {
        "id": "view-in-github",
        "colab_type": "text"
      },
      "source": [
        "<a href=\"https://colab.research.google.com/github/ilaydasevgi/ilayda_sevgi-Math-2024-25-Winter/blob/main/ilayda_sevgi_LA_Matrix_inversion_by_formula_en.ipynb\" target=\"_parent\"><img src=\"https://colab.research.google.com/assets/colab-badge.svg\" alt=\"Open In Colab\"/></a>"
      ]
    },
    {
      "cell_type": "code",
      "execution_count": 1,
      "metadata": {
        "colab": {
          "base_uri": "https://localhost:8080/"
        },
        "id": "awZaMoQWBZVd",
        "outputId": "2aab4241-6c0e-467c-bbf7-4141e60caa4e"
      },
      "outputs": [
        {
          "output_type": "stream",
          "name": "stdout",
          "text": [
            "Inverse of A:\n",
            "[[-2.   1. ]\n",
            " [ 1.5 -0.5]]\n",
            "\n",
            "Inverse of B:\n",
            "[[  7.   5. -13.]\n",
            " [ -6.  -4.  11.]\n",
            " [  2.   1.  -3.]]\n",
            "\n",
            "Inverse of C:\n",
            "[[0. 0. 1.]\n",
            " [0. 1. 0.]\n",
            " [1. 0. 0.]]\n"
          ]
        }
      ],
      "source": [
        "import numpy as np\n",
        "\n",
        "# Define matrices A, B, and C\n",
        "A = np.array([[1, 2],\n",
        "              [3, 4]])\n",
        "\n",
        "B = np.array([[1, 2, 3],\n",
        "              [4, 5, 1],\n",
        "              [2, 3, 2]])\n",
        "\n",
        "C = np.array([[0, 0, 1],\n",
        "              [0, 1, 0],\n",
        "              [1, 0, 0]])\n",
        "\n",
        "# Compute inverses using numpy's built-in method (simulating Gauss-Jordan)\n",
        "inverse_A = np.linalg.inv(A)\n",
        "inverse_B = np.linalg.inv(B)\n",
        "inverse_C = np.linalg.inv(C)\n",
        "\n",
        "# Output the results\n",
        "print(\"Inverse of A:\")\n",
        "print(inverse_A)\n",
        "\n",
        "print(\"\\nInverse of B:\")\n",
        "print(inverse_B)\n",
        "\n",
        "print(\"\\nInverse of C:\")\n",
        "print(inverse_C)"
      ]
    }
  ]
}