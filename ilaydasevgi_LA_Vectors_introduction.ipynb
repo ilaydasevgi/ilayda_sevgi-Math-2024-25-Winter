{
  "nbformat": 4,
  "nbformat_minor": 0,
  "metadata": {
    "colab": {
      "provenance": [],
      "authorship_tag": "ABX9TyMHB3/rusrYcfxfjeo3M/Bn",
      "include_colab_link": true
    },
    "kernelspec": {
      "name": "python3",
      "display_name": "Python 3"
    },
    "language_info": {
      "name": "python"
    }
  },
  "cells": [
    {
      "cell_type": "markdown",
      "metadata": {
        "id": "view-in-github",
        "colab_type": "text"
      },
      "source": [
        "<a href=\"https://colab.research.google.com/github/ilaydasevgi/ilayda_sevgi-Math-2024-25-Winter/blob/main/ilaydasevgi_LA_Vectors_introduction.ipynb\" target=\"_parent\"><img src=\"https://colab.research.google.com/assets/colab-badge.svg\" alt=\"Open In Colab\"/></a>"
      ]
    },
    {
      "cell_type": "code",
      "source": [
        "import numpy as np\n",
        "\n",
        "# A şıkkı: Vektörün birim uzunluğa getirilmesi\n",
        "a = np.array([3, 4])\n",
        "length_a = np.linalg.norm(a)\n",
        "scale_factor = 1 / length_a  # Uzunluğu 1 olacak şekilde çarpan\n",
        "\n",
        "print(\"A şıkkı:\")\n",
        "print(\"Vektör a'nın uzunluğunu 1 yapmak için çarpılması gereken sayı:\", scale_factor)"
      ],
      "metadata": {
        "colab": {
          "base_uri": "https://localhost:8080/"
        },
        "id": "G81csR7tZWQo",
        "outputId": "4796ca9a-083f-48cd-f770-c3757148bd00"
      },
      "execution_count": 3,
      "outputs": [
        {
          "output_type": "stream",
          "name": "stdout",
          "text": [
            "A şıkkı:\n",
            "Vektör a'nın uzunluğunu 1 yapmak için çarpılması gereken sayı: 0.2\n"
          ]
        }
      ]
    },
    {
      "cell_type": "code",
      "source": [
        "# B şıkkı: Vektörün uzunluğunu ve birim vektörünü bulma\n",
        "b = np.array([1, 1])\n",
        "length_b = np.linalg.norm(b)\n",
        "unit_b = b / length_b  # Birim vektör\n",
        "\n",
        "print(\"\\nB şıkkı:\")\n",
        "print(\"Vektör b'nin uzunluğu:\", length_b)\n",
        "print(\"Vektör b'nin birim vektörü:\", unit_b)"
      ],
      "metadata": {
        "colab": {
          "base_uri": "https://localhost:8080/"
        },
        "id": "vI12BOI3ZXl4",
        "outputId": "9eb52891-1726-47e7-a6c6-3604ace5e2c6"
      },
      "execution_count": 4,
      "outputs": [
        {
          "output_type": "stream",
          "name": "stdout",
          "text": [
            "\n",
            "B şıkkı:\n",
            "Vektör b'nin uzunluğu: 1.4142135623730951\n",
            "Vektör b'nin birim vektörü: [0.70710678 0.70710678]\n"
          ]
        }
      ]
    },
    {
      "cell_type": "code",
      "source": [
        "import matplotlib.pyplot as plt\n",
        "\n",
        "# C şıkkı: Vektörü ve birim vektörü çizdirme\n",
        "plt.figure()\n",
        "plt.quiver(0, 0, b[0], b[1], angles='xy', scale_units='xy', scale=1, color='r', label='Vektör b')\n",
        "plt.quiver(0, 0, unit_b[0], unit_b[1], angles='xy', scale_units='xy', scale=1, color='b', label='Birim Vektör b')\n",
        "\n",
        "plt.xlim(-1, 2)\n",
        "plt.ylim(-1, 2)\n",
        "plt.xlabel('x')\n",
        "plt.ylabel('y')\n",
        "plt.legend()\n",
        "plt.grid()\n",
        "plt.show()"
      ],
      "metadata": {
        "colab": {
          "base_uri": "https://localhost:8080/",
          "height": 455
        },
        "id": "mnq2wEqxZYBP",
        "outputId": "6dc481fa-8cfe-434f-a730-af18edcf1fee"
      },
      "execution_count": 5,
      "outputs": [
        {
          "output_type": "display_data",
          "data": {
            "text/plain": [
              "<Figure size 640x480 with 1 Axes>"
            ],
            "image/png": "[encoded data removed]"
          },
          "metadata": {}
        }
      ]
    },
    {
      "cell_type": "code",
      "source": [
        "# D şıkkı: Vektörün uzunluğunu ve birim vektörünü bulma\n",
        "c = np.array([1, 2, 3])\n",
        "length_c = np.linalg.norm(c)\n",
        "unit_c = c / length_c  # Birim vektör\n",
        "\n",
        "print(\"\\nD şıkkı:\")\n",
        "print(\"Vektör c'nin uzunluğu:\", length_c)\n",
        "print(\"Vektör c'nin birim vektörü:\", unit_c)"
      ],
      "metadata": {
        "colab": {
          "base_uri": "https://localhost:8080/"
        },
        "id": "C38i78KvZgPj",
        "outputId": "9d9c476b-89f3-4796-c83a-6acad1d4931f"
      },
      "execution_count": 6,
      "outputs": [
        {
          "output_type": "stream",
          "name": "stdout",
          "text": [
            "\n",
            "D şıkkı:\n",
            "Vektör c'nin uzunluğu: 3.7416573867739413\n",
            "Vektör c'nin birim vektörü: [0.26726124 0.53452248 0.80178373]\n"
          ]
        }
      ]
    },
    {
      "cell_type": "code",
      "source": [
        "# E şıkkı: Vektörün verilen bazdaki Kartezyen koordinatlarını bulma\n",
        "v = np.array([2, 3, 4])\n",
        "b1 = np.array([1, 0, 1])\n",
        "b2 = np.array([0, 1, 0])\n",
        "b3 = np.array([1, 0, -1])\n",
        "\n",
        "# Baz vektörlerini bir matris olarak birleştir\n",
        "B = np.array([b1, b2, b3]).T\n",
        "\n",
        "# B matrisinin tersini kullanarak v'nin yeni bazdaki koordinatlarını bul\n",
        "cartesian_coords = np.linalg.solve(B, v)\n",
        "\n",
        "print(\"\\nE şıkkı:\")\n",
        "print(\"Vektör v'nin yeni bazdaki Kartezyen koordinatları:\", cartesian_coords)"
      ],
      "metadata": {
        "colab": {
          "base_uri": "https://localhost:8080/"
        },
        "id": "_Bw1rV4FZgZf",
        "outputId": "0b77b102-868a-4256-8c4f-1e6fc94ed223"
      },
      "execution_count": 7,
      "outputs": [
        {
          "output_type": "stream",
          "name": "stdout",
          "text": [
            "\n",
            "E şıkkı:\n",
            "Vektör v'nin yeni bazdaki Kartezyen koordinatları: [ 3.  3. -1.]\n"
          ]
        }
      ]
    }
  ]
}