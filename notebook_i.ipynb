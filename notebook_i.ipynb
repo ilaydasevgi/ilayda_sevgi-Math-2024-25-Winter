{
  "nbformat": 4,
  "nbformat_minor": 0,
  "metadata": {
    "colab": {
      "provenance": [],
      "authorship_tag": "ABX9TyO8N1xghtykv2H+YaPh8OBj",
      "include_colab_link": true
    },
    "kernelspec": {
      "name": "python3",
      "display_name": "Python 3"
    },
    "language_info": {
      "name": "python"
    }
  },
  "cells": [
    {
      "cell_type": "markdown",
      "metadata": {
        "id": "view-in-github",
        "colab_type": "text"
      },
      "source": [
        "<a href=\"https://colab.research.google.com/github/ilaydasevgi/ilayda_sevgi-Math-2024-25-Winter/blob/main/notebook_i.ipynb\" target=\"_parent\"><img src=\"https://colab.research.google.com/assets/colab-badge.svg\" alt=\"Open In Colab\"/></a>"
      ]
    },
    {
      "cell_type": "markdown",
      "source": [
        "### ***TEMEL BİLGİLER***\n",
        " ## **STRİNGLER**\n",
        "> Print ifadesi verdiğimiz komutu yazdırmak için kullanılır.\n",
        "\n",
        "\n",
        "\n",
        "> eğer bir kod yazıyorsak ve bu kodun yazarken ' işaretini kullanmamız gerekiyorsa ''yazı'yazının devamı''şeklinde yazmamız gerekir.\n",
        "''ilayda'nın günü'' şeklinde.\n",
        "\n",
        "\n",
        "\n",
        "> eğer yazının bir kısmını alt satıra yazmak istiyorsak \\n ifadesini kullanmalıyız.\n",
        "print('hello\\neveryone')\n",
        "hello\n",
        "everyone\n",
        "şeklinde\n",
        "\n",
        "\n",
        "\n",
        "> eğer yazımız arasında boşluk kullanmak istiyorsak \\t ifadesini kullanmalıyız.\n",
        "print('hello\\teveyone')\n",
        "hello   everyone\n",
        "şeklinde\n",
        "\n",
        "\n",
        "\n",
        "\n",
        "\n",
        "\n",
        "\n",
        "\n"
      ],
      "metadata": {
        "id": "3rOGfQ8ZhvuC"
      }
    },
    {
      "cell_type": "code",
      "execution_count": null,
      "metadata": {
        "colab": {
          "base_uri": "https://localhost:8080/"
        },
        "id": "Pe4dq1kYhlgu",
        "outputId": "f08f4052-7f75-4cf8-f8a0-583a0d87b53d"
      },
      "outputs": [
        {
          "output_type": "stream",
          "name": "stdout",
          "text": [
            "my name is ilayda\n"
          ]
        }
      ],
      "source": [
        "print('my name is ilayda')"
      ]
    },
    {
      "cell_type": "code",
      "source": [
        "print('hello everyone')\n",
        "print('my name is ilayda')"
      ],
      "metadata": {
        "colab": {
          "base_uri": "https://localhost:8080/"
        },
        "id": "10Okq1zAhuSl",
        "outputId": "ba57a8af-168b-4bd0-8860-9ef29a72230a"
      },
      "execution_count": null,
      "outputs": [
        {
          "output_type": "stream",
          "name": "stdout",
          "text": [
            "hello everyone\n",
            "my name is ilayda\n"
          ]
        }
      ]
    },
    {
      "cell_type": "code",
      "source": [
        "print('hello\\neveryone')\n",
        "print('my name is\\nilayda')"
      ],
      "metadata": {
        "colab": {
          "base_uri": "https://localhost:8080/"
        },
        "id": "euqQn0pm4cmf",
        "outputId": "a80820ce-3d85-4465-c2c1-09d2e8ba228e"
      },
      "execution_count": null,
      "outputs": [
        {
          "output_type": "stream",
          "name": "stdout",
          "text": [
            "hello\n",
            "everyone\n",
            "my name is\n",
            "ilayda\n"
          ]
        }
      ]
    },
    {
      "cell_type": "code",
      "source": [
        "print('hello\\teveyone')\n",
        "print('my name is\\tilayda')"
      ],
      "metadata": {
        "colab": {
          "base_uri": "https://localhost:8080/"
        },
        "id": "i3wRtSBR5Fr8",
        "outputId": "2e520702-9efa-489f-c600-e95f721af8e8"
      },
      "execution_count": null,
      "outputs": [
        {
          "output_type": "stream",
          "name": "stdout",
          "text": [
            "hello\teveyone\n",
            "my name is\tilayda\n"
          ]
        }
      ]
    },
    {
      "cell_type": "code",
      "source": [],
      "metadata": {
        "id": "UB4vtDCd5FVq"
      },
      "execution_count": null,
      "outputs": []
    },
    {
      "cell_type": "code",
      "source": [
        "text='hello world'\n",
        "print(text)"
      ],
      "metadata": {
        "colab": {
          "base_uri": "https://localhost:8080/"
        },
        "id": "2lG_08DW5XNS",
        "outputId": "e39a6375-c993-4e52-a7e9-470e668ede5a"
      },
      "execution_count": null,
      "outputs": [
        {
          "output_type": "stream",
          "name": "stdout",
          "text": [
            "hello world\n"
          ]
        }
      ]
    },
    {
      "cell_type": "code",
      "source": [
        "text='hello'\n",
        "# eğer bu şekilde kodlama yaparsak iki yazı arasında boşluk olmaz.\n",
        "text2='everyone'\n",
        "print(text + text2)"
      ],
      "metadata": {
        "colab": {
          "base_uri": "https://localhost:8080/"
        },
        "id": "Oaib7o8_5XJx",
        "outputId": "fb6188eb-ecb4-4ea4-c607-595751463460"
      },
      "execution_count": null,
      "outputs": [
        {
          "output_type": "stream",
          "name": "stdout",
          "text": [
            "helloeveryone\n"
          ]
        }
      ]
    },
    {
      "cell_type": "code",
      "source": [
        "text='hello'\n",
        "text2='everyone'\n",
        "print(text + ' ' + text2)\n",
        "# bu yazılım şekli daha doğru olacaktır."
      ],
      "metadata": {
        "colab": {
          "base_uri": "https://localhost:8080/"
        },
        "id": "Y7oPcOrf5XGR",
        "outputId": "644a9fd9-d11f-43a3-8aca-7b7abc795a06"
      },
      "execution_count": null,
      "outputs": [
        {
          "output_type": "stream",
          "name": "stdout",
          "text": [
            "hello everyone\n"
          ]
        }
      ]
    },
    {
      "cell_type": "code",
      "source": [
        "print(text[0])\n",
        "print(text2[1])\n",
        "print(text[-2])\n",
        "print(text2[-1])"
      ],
      "metadata": {
        "colab": {
          "base_uri": "https://localhost:8080/"
        },
        "id": "b4sh3b_S5XDN",
        "outputId": "3892c645-3381-4441-bada-ba0243c73b6d"
      },
      "execution_count": null,
      "outputs": [
        {
          "output_type": "stream",
          "name": "stdout",
          "text": [
            "h\n",
            "v\n",
            "l\n",
            "e\n"
          ]
        }
      ]
    },
    {
      "cell_type": "code",
      "source": [],
      "metadata": {
        "id": "dDoxGPFT5W7l"
      },
      "execution_count": null,
      "outputs": []
    },
    {
      "source": [
        "text='hello'\n",
        "text2='everyone'\n",
        "\n",
        "print(text[0:2])\n",
        "print(text2[1:3])"
      ],
      "cell_type": "code",
      "metadata": {
        "colab": {
          "base_uri": "https://localhost:8080/"
        },
        "id": "dyC24KXexItX",
        "outputId": "6a649a6a-ab97-4e29-9742-269d4c7affed"
      },
      "execution_count": 2,
      "outputs": [
        {
          "output_type": "stream",
          "name": "stdout",
          "text": [
            "he\n",
            "ve\n"
          ]
        }
      ]
    },
    {
      "cell_type": "code",
      "source": [
        "print(text[::-1])"
      ],
      "metadata": {
        "id": "gS2g_Iop5Wxa",
        "colab": {
          "base_uri": "https://localhost:8080/"
        },
        "outputId": "24e5fc6a-66df-4728-e1c8-cefa5ee95d5d"
      },
      "execution_count": 3,
      "outputs": [
        {
          "output_type": "stream",
          "name": "stdout",
          "text": [
            "olleh\n"
          ]
        }
      ]
    },
    {
      "cell_type": "markdown",
      "source": [],
      "metadata": {
        "id": "yXSf6gY_hu7k"
      }
    },
    {
      "cell_type": "code",
      "source": [
        "print(text.capitalize())\n",
        "print(text.upper())\n",
        "print(text2.lower())"
      ],
      "metadata": {
        "colab": {
          "base_uri": "https://localhost:8080/"
        },
        "id": "YyVaZGrSxuvg",
        "outputId": "1eeb76a3-9454-40cf-a27a-2aae135aa6d2"
      },
      "execution_count": 5,
      "outputs": [
        {
          "output_type": "stream",
          "name": "stdout",
          "text": [
            "Hello\n",
            "HELLO\n",
            "everyone\n"
          ]
        }
      ]
    },
    {
      "cell_type": "code",
      "source": [
        "print(text.upper())\n",
        "print(text.lower())"
      ],
      "metadata": {
        "colab": {
          "base_uri": "https://localhost:8080/"
        },
        "id": "BVq1UgNkxueV",
        "outputId": "9d2a7699-06f5-4283-9543-021577e9e525"
      },
      "execution_count": 8,
      "outputs": [
        {
          "output_type": "stream",
          "name": "stdout",
          "text": [
            "HELLO\n",
            "hello\n"
          ]
        }
      ]
    },
    {
      "cell_type": "code",
      "source": [
        "print(text.startswith('Me'))\n",
        "print(text.startswith('h'))"
      ],
      "metadata": {
        "colab": {
          "base_uri": "https://localhost:8080/"
        },
        "id": "j3QdJkC7xuc_",
        "outputId": "13024e85-0b99-433a-b4b9-0e3850a144f7"
      },
      "execution_count": 10,
      "outputs": [
        {
          "output_type": "stream",
          "name": "stdout",
          "text": [
            "False\n",
            "True\n"
          ]
        }
      ]
    },
    {
      "cell_type": "code",
      "source": [
        "print(len('text'))\n",
        "print(len('text2'))\n",
        "print(len('text + text2'))"
      ],
      "metadata": {
        "colab": {
          "base_uri": "https://localhost:8080/"
        },
        "id": "W6NjvK5SJ0b2",
        "outputId": "dd463a52-6573-4f6c-aec3-259a7c4090c7"
      },
      "execution_count": 13,
      "outputs": [
        {
          "output_type": "stream",
          "name": "stdout",
          "text": [
            "4\n",
            "5\n",
            "12\n"
          ]
        }
      ]
    },
    {
      "cell_type": "code",
      "source": [
        "print('hello'*10)"
      ],
      "metadata": {
        "colab": {
          "base_uri": "https://localhost:8080/"
        },
        "id": "mrofdsaeLod7",
        "outputId": "fff6921f-42de-4447-ee1d-e7df678684ee"
      },
      "execution_count": 15,
      "outputs": [
        {
          "output_type": "stream",
          "name": "stdout",
          "text": [
            "hellohellohellohellohellohellohellohellohellohello\n"
          ]
        }
      ]
    },
    {
      "cell_type": "code",
      "source": [
        "name='ilayda'\n",
        "surname='sevgi'\n",
        "print(name + ' ' + surname)"
      ],
      "metadata": {
        "colab": {
          "base_uri": "https://localhost:8080/"
        },
        "id": "mORITF8gMTIR",
        "outputId": "1b847fd6-feaf-4903-8790-125d2c662377"
      },
      "execution_count": 16,
      "outputs": [
        {
          "output_type": "stream",
          "name": "stdout",
          "text": [
            "ilayda sevgi\n"
          ]
        }
      ]
    },
    {
      "cell_type": "code",
      "source": [
        "name ='ilayda'\n",
        "age='19'\n",
        "\n",
        "print('{} {} years old.'.format(name,age))\n"
      ],
      "metadata": {
        "colab": {
          "base_uri": "https://localhost:8080/"
        },
        "id": "uwksNARXMoN0",
        "outputId": "9a407299-ed81-46da-8e5e-4df76b379010"
      },
      "execution_count": 19,
      "outputs": [
        {
          "output_type": "stream",
          "name": "stdout",
          "text": [
            "ilayda 19 years old.\n"
          ]
        }
      ]
    },
    {
      "cell_type": "code",
      "source": [
        "isim='ilayda'\n",
        "soyisim='sevgi'\n",
        "print(f'{isim} {soyisim}')"
      ],
      "metadata": {
        "colab": {
          "base_uri": "https://localhost:8080/"
        },
        "id": "hGFDsee3_m_K",
        "outputId": "3620ac9b-5b5c-4b5c-cd9b-a9cbfccab513"
      },
      "execution_count": 3,
      "outputs": [
        {
          "output_type": "stream",
          "name": "stdout",
          "text": [
            "ilayda sevgi\n"
          ]
        }
      ]
    },
    {
      "cell_type": "code",
      "source": [],
      "metadata": {
        "id": "VN5aEu0d_JV1"
      },
      "execution_count": null,
      "outputs": []
    },
    {
      "cell_type": "markdown",
      "source": [
        "### **İNTEGER,FLOAT VE TYPE FONKSİYONU**"
      ],
      "metadata": {
        "id": "B_OtBhSwAFec"
      }
    },
    {
      "cell_type": "code",
      "source": [
        "number1=10\n",
        "number2=3.8\n",
        "print(number1)"
      ],
      "metadata": {
        "colab": {
          "base_uri": "https://localhost:8080/"
        },
        "id": "gruinR5QAkSR",
        "outputId": "71953fe2-0bd3-4860-91fa-d3e3b34a99a4"
      },
      "execution_count": 5,
      "outputs": [
        {
          "output_type": "stream",
          "name": "stdout",
          "text": [
            "10\n"
          ]
        }
      ]
    },
    {
      "cell_type": "markdown",
      "source": [
        "**tam sayı değerler integer,ondalıklı sayı olan değerler ise float olarak adlandırılır.**\n",
        "\n",
        "###**MATEMATİK İŞLEMLERİ**"
      ],
      "metadata": {
        "id": "6Xu6nol1BIzX"
      }
    },
    {
      "cell_type": "code",
      "source": [
        "#toplama ''+''\n",
        "print(number1+number2)\n",
        "#çıkarma ''-''\n",
        "print(number1-number2)\n",
        "#çarpma ''*''\n",
        "print(number1*number2)\n",
        "#bölme ''/\n",
        "print(number1/number2)\n",
        "#tam sayı bölme\n",
        "print(number1//number2)\n",
        "#üs ''**''\n",
        "print(number1**number2)\n",
        "#mod ''%''\n",
        "print(number1%number2)\n",
        "#round\n",
        "print(round(number,1))"
      ],
      "metadata": {
        "id": "t0vTmHvdBhHg"
      },
      "execution_count": null,
      "outputs": []
    },
    {
      "cell_type": "markdown",
      "source": [
        "#*KARŞILAŞTIEMA OPERATÖRLERİ*\n"
      ],
      "metadata": {
        "id": "xkdMeaN5GOco"
      }
    },
    {
      "cell_type": "code",
      "source": [
        "#EŞİTTİR\n",
        "print(number1==number2)\n",
        "#DEĞİL\n",
        "print(number1!=number2)\n",
        "#BÜYÜK\n",
        "print(number1>number2)\n",
        "#KÜÇÜK\n",
        "print(number1<number2)\n"
      ],
      "metadata": {
        "id": "zwztXo9EGawd"
      },
      "execution_count": null,
      "outputs": []
    },
    {
      "cell_type": "markdown",
      "source": [
        "*STRİNG VE INTEGERLARI BİRBİRİNE ÇEVİRME*\n"
      ],
      "metadata": {
        "id": "gE_9fVKRGqwA"
      }
    },
    {
      "cell_type": "code",
      "source": [
        "number1='100'\n",
        "number2='100'\n",
        "print(number1 == number2)"
      ],
      "metadata": {
        "colab": {
          "base_uri": "https://localhost:8080/"
        },
        "id": "_4DOZHcIHA2P",
        "outputId": "83adf822-9629-4f81-8ca8-84ac5049d882"
      },
      "execution_count": 8,
      "outputs": [
        {
          "output_type": "stream",
          "name": "stdout",
          "text": [
            "True\n"
          ]
        }
      ]
    }
  ]
}